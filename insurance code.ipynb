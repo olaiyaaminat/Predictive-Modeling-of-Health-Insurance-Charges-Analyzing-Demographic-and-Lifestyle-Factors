{
 "cells": [
  {
   "cell_type": "markdown",
   "id": "ceec4e6a-4359-45e3-a2b0-4c719e3b0f69",
   "metadata": {},
   "source": [
    "Health insurance as become a neccesity for human.It is a  vital element of both financial stability and access to healthcare.There are various factors that play important roles in health insurance such as age,BMI,region among others which help in evaluating the value and necessity of health insurance.\n",
    "\n",
    "It is crucial for individuals, insurers, and governments to comprehend the dynamics of these factors. As it supports accurate risk profile assessment, the creation of policies that strike a balance between cost and coverage, and the customization of insurance plans to meet a variety of demands. \n",
    "\n",
    "By examining these variables, i can gain understanding of the complex interactions that influence insurance charges, which can help stackholders develop more specialized and efficient insurance plans.\n"
   ]
  },
  {
   "cell_type": "markdown",
   "id": "96f49f54-1de6-4868-a714-bda1797a4ffc",
   "metadata": {},
   "source": [
    "# DATA PREPROCESSING"
   ]
  },
  {
   "cell_type": "markdown",
   "id": "8218b857-7dff-493f-acd2-6cd625570029",
   "metadata": {},
   "source": [
    "# DATA SOURCE\n",
    "Medical cost Personal Dataset from Kaggle\n",
    "https://www.kaggle.com/datasets/mirichoi0218/insurance/data"
   ]
  },
  {
   "cell_type": "code",
   "execution_count": 178,
   "id": "4d6af919-cde6-40a3-bb38-dceb71f83d71",
   "metadata": {
    "tags": []
   },
   "outputs": [],
   "source": [
    "#importing libraries\n",
    "import pandas as pd"
   ]
  },
  {
   "cell_type": "code",
   "execution_count": 179,
   "id": "48599e57-64dc-4fb9-8e95-051eee7bcedd",
   "metadata": {
    "tags": []
   },
   "outputs": [],
   "source": [
    "#importing dataset\n",
    "data = pd.read_csv(\"insur.csv\")"
   ]
  },
  {
   "cell_type": "code",
   "execution_count": 180,
   "id": "0a2d91e5-248f-4a36-8689-169bf109567d",
   "metadata": {
    "tags": []
   },
   "outputs": [
    {
     "data": {
      "text/html": [
       "<div>\n",
       "<style scoped>\n",
       "    .dataframe tbody tr th:only-of-type {\n",
       "        vertical-align: middle;\n",
       "    }\n",
       "\n",
       "    .dataframe tbody tr th {\n",
       "        vertical-align: top;\n",
       "    }\n",
       "\n",
       "    .dataframe thead th {\n",
       "        text-align: right;\n",
       "    }\n",
       "</style>\n",
       "<table border=\"1\" class=\"dataframe\">\n",
       "  <thead>\n",
       "    <tr style=\"text-align: right;\">\n",
       "      <th></th>\n",
       "      <th>age</th>\n",
       "      <th>sex</th>\n",
       "      <th>bmi</th>\n",
       "      <th>children</th>\n",
       "      <th>smoker</th>\n",
       "      <th>region</th>\n",
       "      <th>charges</th>\n",
       "    </tr>\n",
       "  </thead>\n",
       "  <tbody>\n",
       "    <tr>\n",
       "      <th>0</th>\n",
       "      <td>19</td>\n",
       "      <td>female</td>\n",
       "      <td>27.900</td>\n",
       "      <td>0</td>\n",
       "      <td>yes</td>\n",
       "      <td>southwest</td>\n",
       "      <td>16884.92400</td>\n",
       "    </tr>\n",
       "    <tr>\n",
       "      <th>1</th>\n",
       "      <td>18</td>\n",
       "      <td>male</td>\n",
       "      <td>33.770</td>\n",
       "      <td>1</td>\n",
       "      <td>no</td>\n",
       "      <td>southeast</td>\n",
       "      <td>1725.55230</td>\n",
       "    </tr>\n",
       "    <tr>\n",
       "      <th>2</th>\n",
       "      <td>28</td>\n",
       "      <td>male</td>\n",
       "      <td>33.000</td>\n",
       "      <td>3</td>\n",
       "      <td>no</td>\n",
       "      <td>southeast</td>\n",
       "      <td>4449.46200</td>\n",
       "    </tr>\n",
       "    <tr>\n",
       "      <th>3</th>\n",
       "      <td>33</td>\n",
       "      <td>male</td>\n",
       "      <td>22.705</td>\n",
       "      <td>0</td>\n",
       "      <td>no</td>\n",
       "      <td>northwest</td>\n",
       "      <td>21984.47061</td>\n",
       "    </tr>\n",
       "    <tr>\n",
       "      <th>4</th>\n",
       "      <td>32</td>\n",
       "      <td>male</td>\n",
       "      <td>28.880</td>\n",
       "      <td>0</td>\n",
       "      <td>no</td>\n",
       "      <td>northwest</td>\n",
       "      <td>3866.85520</td>\n",
       "    </tr>\n",
       "  </tbody>\n",
       "</table>\n",
       "</div>"
      ],
      "text/plain": [
       "   age     sex     bmi  children smoker     region      charges\n",
       "0   19  female  27.900         0    yes  southwest  16884.92400\n",
       "1   18    male  33.770         1     no  southeast   1725.55230\n",
       "2   28    male  33.000         3     no  southeast   4449.46200\n",
       "3   33    male  22.705         0     no  northwest  21984.47061\n",
       "4   32    male  28.880         0     no  northwest   3866.85520"
      ]
     },
     "execution_count": 180,
     "metadata": {},
     "output_type": "execute_result"
    }
   ],
   "source": [
    "#a view of the dataset\n",
    "data.head()"
   ]
  },
  {
   "cell_type": "markdown",
   "id": "0b8971c6-89ee-4c52-beaf-8be24e9d899d",
   "metadata": {},
   "source": [
    "This shows the first five rows of the dataset, the data has 7 attributes."
   ]
  },
  {
   "cell_type": "code",
   "execution_count": 181,
   "id": "4c63385d-98c9-4064-b44f-7414b9930d27",
   "metadata": {
    "tags": []
   },
   "outputs": [
    {
     "data": {
      "text/plain": [
       "age         False\n",
       "sex         False\n",
       "bmi         False\n",
       "children    False\n",
       "smoker      False\n",
       "region      False\n",
       "charges     False\n",
       "dtype: bool"
      ]
     },
     "execution_count": 181,
     "metadata": {},
     "output_type": "execute_result"
    }
   ],
   "source": [
    "# i am checking with the code if there are null data value in my dataset.\n",
    "data.isnull().any()"
   ]
  },
  {
   "cell_type": "markdown",
   "id": "d2c17e06-0502-4db6-a23e-09575621059f",
   "metadata": {},
   "source": [
    "There are no null value in the dataset"
   ]
  },
  {
   "cell_type": "code",
   "execution_count": 182,
   "id": "6dce9a5a-a79b-4bfe-91a7-223e85113f55",
   "metadata": {
    "tags": []
   },
   "outputs": [
    {
     "data": {
      "text/plain": [
       "0       False\n",
       "1       False\n",
       "2       False\n",
       "3       False\n",
       "4       False\n",
       "        ...  \n",
       "1333    False\n",
       "1334    False\n",
       "1335    False\n",
       "1336    False\n",
       "1337    False\n",
       "Length: 1338, dtype: bool"
      ]
     },
     "execution_count": 182,
     "metadata": {},
     "output_type": "execute_result"
    }
   ],
   "source": [
    "# I am checking for duplicate value in my dataset\n",
    "data.duplicated()"
   ]
  },
  {
   "cell_type": "markdown",
   "id": "3dd8566d-9cbd-4123-a8e1-ca141e4611aa",
   "metadata": {},
   "source": [
    "Recoding the categorical values using label encoder"
   ]
  },
  {
   "cell_type": "code",
   "execution_count": 183,
   "id": "47e30e76-66cc-40d5-9125-2ed32573ae63",
   "metadata": {
    "tags": []
   },
   "outputs": [
    {
     "name": "stdout",
     "output_type": "stream",
     "text": [
      "      age     sex     bmi  children smoker     region      charges  \\\n",
      "0      19  female  27.900         0    yes  southwest  16884.92400   \n",
      "1      18    male  33.770         1     no  southeast   1725.55230   \n",
      "2      28    male  33.000         3     no  southeast   4449.46200   \n",
      "3      33    male  22.705         0     no  northwest  21984.47061   \n",
      "4      32    male  28.880         0     no  northwest   3866.85520   \n",
      "...   ...     ...     ...       ...    ...        ...          ...   \n",
      "1333   50    male  30.970         3     no  northwest  10600.54830   \n",
      "1334   18  female  31.920         0     no  northeast   2205.98080   \n",
      "1335   18  female  36.850         0     no  southeast   1629.83350   \n",
      "1336   21  female  25.800         0     no  southwest   2007.94500   \n",
      "1337   61  female  29.070         0    yes  northwest  29141.36030   \n",
      "\n",
      "      sex_encoded  \n",
      "0               0  \n",
      "1               1  \n",
      "2               1  \n",
      "3               1  \n",
      "4               1  \n",
      "...           ...  \n",
      "1333            1  \n",
      "1334            0  \n",
      "1335            0  \n",
      "1336            0  \n",
      "1337            0  \n",
      "\n",
      "[1338 rows x 8 columns]\n"
     ]
    }
   ],
   "source": [
    "#recoding sex\n",
    "#using label encoding\n",
    "\n",
    "from sklearn.preprocessing import LabelEncoder\n",
    "# Initializing LabelEncoder\n",
    "label_encoder = LabelEncoder()\n",
    "\n",
    "# Choose the column to encode\n",
    "column_to_encode = 'sex'\n",
    "\n",
    "# Initialize LabelEncoder\n",
    "label_encoder = LabelEncoder()\n",
    "\n",
    "# Encode the selected column and store the encoded values in a new column\n",
    "data[column_to_encode + '_encoded'] = label_encoder.fit_transform(data[column_to_encode])\n",
    "\n",
    "# Display the DataFrame with the newly added encoded column\n",
    "print(data)"
   ]
  },
  {
   "cell_type": "markdown",
   "id": "e70bb3e5-8241-468c-a83f-b0136ae7e017",
   "metadata": {},
   "source": [
    " For this female is recoded to 0 and male to 1"
   ]
  },
  {
   "cell_type": "code",
   "execution_count": 184,
   "id": "7cef4a57-30f6-48b8-9886-c730d70b1169",
   "metadata": {
    "tags": []
   },
   "outputs": [
    {
     "name": "stdout",
     "output_type": "stream",
     "text": [
      "      age     sex     bmi  children smoker     region      charges  \\\n",
      "0      19  female  27.900         0    yes  southwest  16884.92400   \n",
      "1      18    male  33.770         1     no  southeast   1725.55230   \n",
      "2      28    male  33.000         3     no  southeast   4449.46200   \n",
      "3      33    male  22.705         0     no  northwest  21984.47061   \n",
      "4      32    male  28.880         0     no  northwest   3866.85520   \n",
      "...   ...     ...     ...       ...    ...        ...          ...   \n",
      "1333   50    male  30.970         3     no  northwest  10600.54830   \n",
      "1334   18  female  31.920         0     no  northeast   2205.98080   \n",
      "1335   18  female  36.850         0     no  southeast   1629.83350   \n",
      "1336   21  female  25.800         0     no  southwest   2007.94500   \n",
      "1337   61  female  29.070         0    yes  northwest  29141.36030   \n",
      "\n",
      "      sex_encoded  region_encoded  \n",
      "0               0               3  \n",
      "1               1               2  \n",
      "2               1               2  \n",
      "3               1               1  \n",
      "4               1               1  \n",
      "...           ...             ...  \n",
      "1333            1               1  \n",
      "1334            0               0  \n",
      "1335            0               2  \n",
      "1336            0               3  \n",
      "1337            0               1  \n",
      "\n",
      "[1338 rows x 9 columns]\n"
     ]
    }
   ],
   "source": [
    "#recoding region\n",
    "#using label encoding\n",
    "\n",
    "from sklearn.preprocessing import LabelEncoder\n",
    "# Initializing LabelEncoder\n",
    "label_encoder = LabelEncoder()\n",
    "\n",
    "# Choose the column to encode\n",
    "column_to_encode = 'region'\n",
    "\n",
    "# Initialize LabelEncoder\n",
    "label_encoder = LabelEncoder()\n",
    "\n",
    "# Encode the selected column and store the encoded values in a new column\n",
    "data[column_to_encode + '_encoded'] = label_encoder.fit_transform(data[column_to_encode])\n",
    "\n",
    "# Display the DataFrame with the newly added encoded column\n",
    "print(data)"
   ]
  },
  {
   "cell_type": "markdown",
   "id": "b9ed5b84-72c8-494b-9ab2-93506ed87642",
   "metadata": {},
   "source": [
    "northwest is encoded to 1, south east to 2, south west to3 and north east to 4"
   ]
  },
  {
   "cell_type": "code",
   "execution_count": 185,
   "id": "2bf4671c-daf4-428a-b641-064b5abf1c50",
   "metadata": {
    "tags": []
   },
   "outputs": [
    {
     "name": "stdout",
     "output_type": "stream",
     "text": [
      "      age     sex     bmi  children smoker     region      charges  \\\n",
      "0      19  female  27.900         0    yes  southwest  16884.92400   \n",
      "1      18    male  33.770         1     no  southeast   1725.55230   \n",
      "2      28    male  33.000         3     no  southeast   4449.46200   \n",
      "3      33    male  22.705         0     no  northwest  21984.47061   \n",
      "4      32    male  28.880         0     no  northwest   3866.85520   \n",
      "...   ...     ...     ...       ...    ...        ...          ...   \n",
      "1333   50    male  30.970         3     no  northwest  10600.54830   \n",
      "1334   18  female  31.920         0     no  northeast   2205.98080   \n",
      "1335   18  female  36.850         0     no  southeast   1629.83350   \n",
      "1336   21  female  25.800         0     no  southwest   2007.94500   \n",
      "1337   61  female  29.070         0    yes  northwest  29141.36030   \n",
      "\n",
      "      sex_encoded  region_encoded  smoker_encoded  \n",
      "0               0               3               1  \n",
      "1               1               2               0  \n",
      "2               1               2               0  \n",
      "3               1               1               0  \n",
      "4               1               1               0  \n",
      "...           ...             ...             ...  \n",
      "1333            1               1               0  \n",
      "1334            0               0               0  \n",
      "1335            0               2               0  \n",
      "1336            0               3               0  \n",
      "1337            0               1               1  \n",
      "\n",
      "[1338 rows x 10 columns]\n"
     ]
    }
   ],
   "source": [
    "#recoding smoker\n",
    "#using label encoding\n",
    "\n",
    "from sklearn.preprocessing import LabelEncoder\n",
    "# Initializing LabelEncoder\n",
    "label_encoder = LabelEncoder()\n",
    "\n",
    "# Choose the column to encode\n",
    "column_to_encode = 'smoker'\n",
    "\n",
    "# Initialize LabelEncoder\n",
    "label_encoder = LabelEncoder()\n",
    "\n",
    "# Encode the selected column and store the encoded values in a new column\n",
    "data[column_to_encode + '_encoded'] = label_encoder.fit_transform(data[column_to_encode])\n",
    "\n",
    "# Display the DataFrame with the newly added encoded column\n",
    "print(data)"
   ]
  },
  {
   "cell_type": "markdown",
   "id": "7afe9bea-a7d6-4fd8-a276-a4c407ab263c",
   "metadata": {},
   "source": [
    "individual who answered yes to smoking was encoded to 1 and not spoking encoded to 0"
   ]
  },
  {
   "cell_type": "markdown",
   "id": "64ec745a-c978-4bb0-a252-3505f7687877",
   "metadata": {},
   "source": [
    "Dropping of attributes that are not needed for analysis after coding"
   ]
  },
  {
   "cell_type": "code",
   "execution_count": 186,
   "id": "ba826fa2-57fb-4772-aef7-cc082d0b59cf",
   "metadata": {
    "tags": []
   },
   "outputs": [
    {
     "name": "stdout",
     "output_type": "stream",
     "text": [
      "      age     bmi  children      charges  sex_encoded  region_encoded  \\\n",
      "0      19  27.900         0  16884.92400            0               3   \n",
      "1      18  33.770         1   1725.55230            1               2   \n",
      "2      28  33.000         3   4449.46200            1               2   \n",
      "3      33  22.705         0  21984.47061            1               1   \n",
      "4      32  28.880         0   3866.85520            1               1   \n",
      "...   ...     ...       ...          ...          ...             ...   \n",
      "1333   50  30.970         3  10600.54830            1               1   \n",
      "1334   18  31.920         0   2205.98080            0               0   \n",
      "1335   18  36.850         0   1629.83350            0               2   \n",
      "1336   21  25.800         0   2007.94500            0               3   \n",
      "1337   61  29.070         0  29141.36030            0               1   \n",
      "\n",
      "      smoker_encoded  \n",
      "0                  1  \n",
      "1                  0  \n",
      "2                  0  \n",
      "3                  0  \n",
      "4                  0  \n",
      "...              ...  \n",
      "1333               0  \n",
      "1334               0  \n",
      "1335               0  \n",
      "1336               0  \n",
      "1337               1  \n",
      "\n",
      "[1338 rows x 7 columns]\n"
     ]
    }
   ],
   "source": [
    "# Dropping multiple columns to retain columns needed for analysis after recoding\n",
    "columns_to_drop = ['sex', 'region', 'smoker']\n",
    "existing_columns = set(data.columns)\n",
    "columns_to_drop = [col for col in columns_to_drop if col in existing_columns]\n",
    "data = data.drop(columns=columns_to_drop)\n",
    "print(data)"
   ]
  },
  {
   "cell_type": "markdown",
   "id": "bc390bd2-4fe4-4f78-9b17-771e72584d11",
   "metadata": {},
   "source": [
    "Renaming dataset for consistency and uniformity in analysis"
   ]
  },
  {
   "cell_type": "code",
   "execution_count": 187,
   "id": "4c587a53-024b-43b6-86ff-da9eb0c7ad2c",
   "metadata": {
    "tags": []
   },
   "outputs": [],
   "source": [
    "#Renaming my dataset in multiple column in a list\n",
    "data.rename(columns={'region_encoded': 'region', 'sex_encoded': 'sex', 'smoker_encoded': 'smoker'}, inplace=True)"
   ]
  },
  {
   "cell_type": "code",
   "execution_count": 188,
   "id": "3ae7e0ab-003b-4ce9-af73-b894e9317a8f",
   "metadata": {
    "tags": []
   },
   "outputs": [
    {
     "data": {
      "text/html": [
       "<div>\n",
       "<style scoped>\n",
       "    .dataframe tbody tr th:only-of-type {\n",
       "        vertical-align: middle;\n",
       "    }\n",
       "\n",
       "    .dataframe tbody tr th {\n",
       "        vertical-align: top;\n",
       "    }\n",
       "\n",
       "    .dataframe thead th {\n",
       "        text-align: right;\n",
       "    }\n",
       "</style>\n",
       "<table border=\"1\" class=\"dataframe\">\n",
       "  <thead>\n",
       "    <tr style=\"text-align: right;\">\n",
       "      <th></th>\n",
       "      <th>age</th>\n",
       "      <th>bmi</th>\n",
       "      <th>children</th>\n",
       "      <th>charges</th>\n",
       "      <th>sex</th>\n",
       "      <th>region</th>\n",
       "      <th>smoker</th>\n",
       "    </tr>\n",
       "  </thead>\n",
       "  <tbody>\n",
       "    <tr>\n",
       "      <th>0</th>\n",
       "      <td>19</td>\n",
       "      <td>27.900</td>\n",
       "      <td>0</td>\n",
       "      <td>16884.92400</td>\n",
       "      <td>0</td>\n",
       "      <td>3</td>\n",
       "      <td>1</td>\n",
       "    </tr>\n",
       "    <tr>\n",
       "      <th>1</th>\n",
       "      <td>18</td>\n",
       "      <td>33.770</td>\n",
       "      <td>1</td>\n",
       "      <td>1725.55230</td>\n",
       "      <td>1</td>\n",
       "      <td>2</td>\n",
       "      <td>0</td>\n",
       "    </tr>\n",
       "    <tr>\n",
       "      <th>2</th>\n",
       "      <td>28</td>\n",
       "      <td>33.000</td>\n",
       "      <td>3</td>\n",
       "      <td>4449.46200</td>\n",
       "      <td>1</td>\n",
       "      <td>2</td>\n",
       "      <td>0</td>\n",
       "    </tr>\n",
       "    <tr>\n",
       "      <th>3</th>\n",
       "      <td>33</td>\n",
       "      <td>22.705</td>\n",
       "      <td>0</td>\n",
       "      <td>21984.47061</td>\n",
       "      <td>1</td>\n",
       "      <td>1</td>\n",
       "      <td>0</td>\n",
       "    </tr>\n",
       "    <tr>\n",
       "      <th>4</th>\n",
       "      <td>32</td>\n",
       "      <td>28.880</td>\n",
       "      <td>0</td>\n",
       "      <td>3866.85520</td>\n",
       "      <td>1</td>\n",
       "      <td>1</td>\n",
       "      <td>0</td>\n",
       "    </tr>\n",
       "    <tr>\n",
       "      <th>...</th>\n",
       "      <td>...</td>\n",
       "      <td>...</td>\n",
       "      <td>...</td>\n",
       "      <td>...</td>\n",
       "      <td>...</td>\n",
       "      <td>...</td>\n",
       "      <td>...</td>\n",
       "    </tr>\n",
       "    <tr>\n",
       "      <th>1333</th>\n",
       "      <td>50</td>\n",
       "      <td>30.970</td>\n",
       "      <td>3</td>\n",
       "      <td>10600.54830</td>\n",
       "      <td>1</td>\n",
       "      <td>1</td>\n",
       "      <td>0</td>\n",
       "    </tr>\n",
       "    <tr>\n",
       "      <th>1334</th>\n",
       "      <td>18</td>\n",
       "      <td>31.920</td>\n",
       "      <td>0</td>\n",
       "      <td>2205.98080</td>\n",
       "      <td>0</td>\n",
       "      <td>0</td>\n",
       "      <td>0</td>\n",
       "    </tr>\n",
       "    <tr>\n",
       "      <th>1335</th>\n",
       "      <td>18</td>\n",
       "      <td>36.850</td>\n",
       "      <td>0</td>\n",
       "      <td>1629.83350</td>\n",
       "      <td>0</td>\n",
       "      <td>2</td>\n",
       "      <td>0</td>\n",
       "    </tr>\n",
       "    <tr>\n",
       "      <th>1336</th>\n",
       "      <td>21</td>\n",
       "      <td>25.800</td>\n",
       "      <td>0</td>\n",
       "      <td>2007.94500</td>\n",
       "      <td>0</td>\n",
       "      <td>3</td>\n",
       "      <td>0</td>\n",
       "    </tr>\n",
       "    <tr>\n",
       "      <th>1337</th>\n",
       "      <td>61</td>\n",
       "      <td>29.070</td>\n",
       "      <td>0</td>\n",
       "      <td>29141.36030</td>\n",
       "      <td>0</td>\n",
       "      <td>1</td>\n",
       "      <td>1</td>\n",
       "    </tr>\n",
       "  </tbody>\n",
       "</table>\n",
       "<p>1338 rows × 7 columns</p>\n",
       "</div>"
      ],
      "text/plain": [
       "      age     bmi  children      charges  sex  region  smoker\n",
       "0      19  27.900         0  16884.92400    0       3       1\n",
       "1      18  33.770         1   1725.55230    1       2       0\n",
       "2      28  33.000         3   4449.46200    1       2       0\n",
       "3      33  22.705         0  21984.47061    1       1       0\n",
       "4      32  28.880         0   3866.85520    1       1       0\n",
       "...   ...     ...       ...          ...  ...     ...     ...\n",
       "1333   50  30.970         3  10600.54830    1       1       0\n",
       "1334   18  31.920         0   2205.98080    0       0       0\n",
       "1335   18  36.850         0   1629.83350    0       2       0\n",
       "1336   21  25.800         0   2007.94500    0       3       0\n",
       "1337   61  29.070         0  29141.36030    0       1       1\n",
       "\n",
       "[1338 rows x 7 columns]"
      ]
     },
     "execution_count": 188,
     "metadata": {},
     "output_type": "execute_result"
    }
   ],
   "source": [
    "#display the new dataset set\n",
    "data"
   ]
  },
  {
   "cell_type": "code",
   "execution_count": 189,
   "id": "58b896ce-cef1-4e90-bc2e-5449ca2559d5",
   "metadata": {
    "tags": []
   },
   "outputs": [
    {
     "data": {
      "text/plain": [
       "age           int64\n",
       "bmi         float64\n",
       "children      int64\n",
       "charges     float64\n",
       "sex           int32\n",
       "region        int32\n",
       "smoker        int32\n",
       "dtype: object"
      ]
     },
     "execution_count": 189,
     "metadata": {},
     "output_type": "execute_result"
    }
   ],
   "source": [
    "#check data type\n",
    "# i want to know the data type for each atrributes.\n",
    "data.dtypes"
   ]
  },
  {
   "cell_type": "code",
   "execution_count": 190,
   "id": "45230988-5710-46de-9099-009fe89d3a6b",
   "metadata": {
    "tags": []
   },
   "outputs": [
    {
     "data": {
      "text/html": [
       "<div>\n",
       "<style scoped>\n",
       "    .dataframe tbody tr th:only-of-type {\n",
       "        vertical-align: middle;\n",
       "    }\n",
       "\n",
       "    .dataframe tbody tr th {\n",
       "        vertical-align: top;\n",
       "    }\n",
       "\n",
       "    .dataframe thead th {\n",
       "        text-align: right;\n",
       "    }\n",
       "</style>\n",
       "<table border=\"1\" class=\"dataframe\">\n",
       "  <thead>\n",
       "    <tr style=\"text-align: right;\">\n",
       "      <th></th>\n",
       "      <th>age</th>\n",
       "      <th>bmi</th>\n",
       "      <th>children</th>\n",
       "      <th>charges</th>\n",
       "      <th>sex</th>\n",
       "      <th>region</th>\n",
       "      <th>smoker</th>\n",
       "    </tr>\n",
       "  </thead>\n",
       "  <tbody>\n",
       "    <tr>\n",
       "      <th>count</th>\n",
       "      <td>1338.000000</td>\n",
       "      <td>1338.000000</td>\n",
       "      <td>1338.000000</td>\n",
       "      <td>1338.000000</td>\n",
       "      <td>1338.000000</td>\n",
       "      <td>1338.000000</td>\n",
       "      <td>1338.000000</td>\n",
       "    </tr>\n",
       "    <tr>\n",
       "      <th>mean</th>\n",
       "      <td>39.207025</td>\n",
       "      <td>30.663397</td>\n",
       "      <td>1.094918</td>\n",
       "      <td>13270.422265</td>\n",
       "      <td>0.505232</td>\n",
       "      <td>1.515695</td>\n",
       "      <td>0.204783</td>\n",
       "    </tr>\n",
       "    <tr>\n",
       "      <th>std</th>\n",
       "      <td>14.049960</td>\n",
       "      <td>6.098187</td>\n",
       "      <td>1.205493</td>\n",
       "      <td>12110.011237</td>\n",
       "      <td>0.500160</td>\n",
       "      <td>1.104885</td>\n",
       "      <td>0.403694</td>\n",
       "    </tr>\n",
       "    <tr>\n",
       "      <th>min</th>\n",
       "      <td>18.000000</td>\n",
       "      <td>15.960000</td>\n",
       "      <td>0.000000</td>\n",
       "      <td>1121.873900</td>\n",
       "      <td>0.000000</td>\n",
       "      <td>0.000000</td>\n",
       "      <td>0.000000</td>\n",
       "    </tr>\n",
       "    <tr>\n",
       "      <th>25%</th>\n",
       "      <td>27.000000</td>\n",
       "      <td>26.296250</td>\n",
       "      <td>0.000000</td>\n",
       "      <td>4740.287150</td>\n",
       "      <td>0.000000</td>\n",
       "      <td>1.000000</td>\n",
       "      <td>0.000000</td>\n",
       "    </tr>\n",
       "    <tr>\n",
       "      <th>50%</th>\n",
       "      <td>39.000000</td>\n",
       "      <td>30.400000</td>\n",
       "      <td>1.000000</td>\n",
       "      <td>9382.033000</td>\n",
       "      <td>1.000000</td>\n",
       "      <td>2.000000</td>\n",
       "      <td>0.000000</td>\n",
       "    </tr>\n",
       "    <tr>\n",
       "      <th>75%</th>\n",
       "      <td>51.000000</td>\n",
       "      <td>34.693750</td>\n",
       "      <td>2.000000</td>\n",
       "      <td>16639.912515</td>\n",
       "      <td>1.000000</td>\n",
       "      <td>2.000000</td>\n",
       "      <td>0.000000</td>\n",
       "    </tr>\n",
       "    <tr>\n",
       "      <th>max</th>\n",
       "      <td>64.000000</td>\n",
       "      <td>53.130000</td>\n",
       "      <td>5.000000</td>\n",
       "      <td>63770.428010</td>\n",
       "      <td>1.000000</td>\n",
       "      <td>3.000000</td>\n",
       "      <td>1.000000</td>\n",
       "    </tr>\n",
       "  </tbody>\n",
       "</table>\n",
       "</div>"
      ],
      "text/plain": [
       "               age          bmi     children       charges          sex  \\\n",
       "count  1338.000000  1338.000000  1338.000000   1338.000000  1338.000000   \n",
       "mean     39.207025    30.663397     1.094918  13270.422265     0.505232   \n",
       "std      14.049960     6.098187     1.205493  12110.011237     0.500160   \n",
       "min      18.000000    15.960000     0.000000   1121.873900     0.000000   \n",
       "25%      27.000000    26.296250     0.000000   4740.287150     0.000000   \n",
       "50%      39.000000    30.400000     1.000000   9382.033000     1.000000   \n",
       "75%      51.000000    34.693750     2.000000  16639.912515     1.000000   \n",
       "max      64.000000    53.130000     5.000000  63770.428010     1.000000   \n",
       "\n",
       "            region       smoker  \n",
       "count  1338.000000  1338.000000  \n",
       "mean      1.515695     0.204783  \n",
       "std       1.104885     0.403694  \n",
       "min       0.000000     0.000000  \n",
       "25%       1.000000     0.000000  \n",
       "50%       2.000000     0.000000  \n",
       "75%       2.000000     0.000000  \n",
       "max       3.000000     1.000000  "
      ]
     },
     "execution_count": 190,
     "metadata": {},
     "output_type": "execute_result"
    }
   ],
   "source": [
    "#A summary of the dataset\n",
    "data.describe()"
   ]
  },
  {
   "cell_type": "code",
   "execution_count": 191,
   "id": "83f74e8c-1a83-49e4-99ce-c4b4615bb55a",
   "metadata": {
    "tags": []
   },
   "outputs": [
    {
     "data": {
      "text/html": [
       "<div>\n",
       "<style scoped>\n",
       "    .dataframe tbody tr th:only-of-type {\n",
       "        vertical-align: middle;\n",
       "    }\n",
       "\n",
       "    .dataframe tbody tr th {\n",
       "        vertical-align: top;\n",
       "    }\n",
       "\n",
       "    .dataframe thead th {\n",
       "        text-align: right;\n",
       "    }\n",
       "</style>\n",
       "<table border=\"1\" class=\"dataframe\">\n",
       "  <thead>\n",
       "    <tr style=\"text-align: right;\">\n",
       "      <th></th>\n",
       "      <th>age</th>\n",
       "      <th>bmi</th>\n",
       "      <th>children</th>\n",
       "      <th>charges</th>\n",
       "      <th>sex</th>\n",
       "      <th>region</th>\n",
       "      <th>smoker</th>\n",
       "    </tr>\n",
       "  </thead>\n",
       "  <tbody>\n",
       "    <tr>\n",
       "      <th>age</th>\n",
       "      <td>1.000000</td>\n",
       "      <td>0.109272</td>\n",
       "      <td>0.042469</td>\n",
       "      <td>0.299008</td>\n",
       "      <td>-0.020856</td>\n",
       "      <td>0.002127</td>\n",
       "      <td>-0.025019</td>\n",
       "    </tr>\n",
       "    <tr>\n",
       "      <th>bmi</th>\n",
       "      <td>0.109272</td>\n",
       "      <td>1.000000</td>\n",
       "      <td>0.012759</td>\n",
       "      <td>0.198341</td>\n",
       "      <td>0.046371</td>\n",
       "      <td>0.157566</td>\n",
       "      <td>0.003750</td>\n",
       "    </tr>\n",
       "    <tr>\n",
       "      <th>children</th>\n",
       "      <td>0.042469</td>\n",
       "      <td>0.012759</td>\n",
       "      <td>1.000000</td>\n",
       "      <td>0.067998</td>\n",
       "      <td>0.017163</td>\n",
       "      <td>0.016569</td>\n",
       "      <td>0.007673</td>\n",
       "    </tr>\n",
       "    <tr>\n",
       "      <th>charges</th>\n",
       "      <td>0.299008</td>\n",
       "      <td>0.198341</td>\n",
       "      <td>0.067998</td>\n",
       "      <td>1.000000</td>\n",
       "      <td>0.057292</td>\n",
       "      <td>-0.006208</td>\n",
       "      <td>0.787251</td>\n",
       "    </tr>\n",
       "    <tr>\n",
       "      <th>sex</th>\n",
       "      <td>-0.020856</td>\n",
       "      <td>0.046371</td>\n",
       "      <td>0.017163</td>\n",
       "      <td>0.057292</td>\n",
       "      <td>1.000000</td>\n",
       "      <td>0.004588</td>\n",
       "      <td>0.076185</td>\n",
       "    </tr>\n",
       "    <tr>\n",
       "      <th>region</th>\n",
       "      <td>0.002127</td>\n",
       "      <td>0.157566</td>\n",
       "      <td>0.016569</td>\n",
       "      <td>-0.006208</td>\n",
       "      <td>0.004588</td>\n",
       "      <td>1.000000</td>\n",
       "      <td>-0.002181</td>\n",
       "    </tr>\n",
       "    <tr>\n",
       "      <th>smoker</th>\n",
       "      <td>-0.025019</td>\n",
       "      <td>0.003750</td>\n",
       "      <td>0.007673</td>\n",
       "      <td>0.787251</td>\n",
       "      <td>0.076185</td>\n",
       "      <td>-0.002181</td>\n",
       "      <td>1.000000</td>\n",
       "    </tr>\n",
       "  </tbody>\n",
       "</table>\n",
       "</div>"
      ],
      "text/plain": [
       "               age       bmi  children   charges       sex    region    smoker\n",
       "age       1.000000  0.109272  0.042469  0.299008 -0.020856  0.002127 -0.025019\n",
       "bmi       0.109272  1.000000  0.012759  0.198341  0.046371  0.157566  0.003750\n",
       "children  0.042469  0.012759  1.000000  0.067998  0.017163  0.016569  0.007673\n",
       "charges   0.299008  0.198341  0.067998  1.000000  0.057292 -0.006208  0.787251\n",
       "sex      -0.020856  0.046371  0.017163  0.057292  1.000000  0.004588  0.076185\n",
       "region    0.002127  0.157566  0.016569 -0.006208  0.004588  1.000000 -0.002181\n",
       "smoker   -0.025019  0.003750  0.007673  0.787251  0.076185 -0.002181  1.000000"
      ]
     },
     "execution_count": 191,
     "metadata": {},
     "output_type": "execute_result"
    }
   ],
   "source": [
    "#checking for correclation between the variables\n",
    "data.corr()"
   ]
  },
  {
   "cell_type": "code",
   "execution_count": 192,
   "id": "54882a50-b648-4753-9720-ae9792fddfdd",
   "metadata": {
    "tags": []
   },
   "outputs": [
    {
     "data": {
      "image/png": "[encoded data removed]",
      "text/plain": [
       "<Figure size 640x480 with 2 Axes>"
      ]
     },
     "metadata": {},
     "output_type": "display_data"
    }
   ],
   "source": [
    "#just to visuslize the correlation\n",
    "import seaborn as sns\n",
    "# use all the cleaned dataset \n",
    "\n",
    "corr = data.corr() #use the clean dataset\n",
    "\n",
    "sns.heatmap(corr, annot=True) #annotates each cell with its correlation value\n",
    "plt.show()"
   ]
  },
  {
   "cell_type": "markdown",
   "id": "7d602f3e-885d-4a1c-b6e5-197a7bf9eb22",
   "metadata": {},
   "source": [
    "I used the heatplot to show the correlation between the variables"
   ]
  },
  {
   "cell_type": "code",
   "execution_count": 193,
   "id": "d0dd9e5b-2d08-4c84-b1f4-ffa949999b5b",
   "metadata": {
    "tags": []
   },
   "outputs": [],
   "source": [
    "#exporting the processed dataset in csv format\n",
    "data.to_csv(\"C:\\\\Users\\\\olaiy\\\\Desktop\\\\newinsurance.csv\")"
   ]
  },
  {
   "cell_type": "markdown",
   "id": "151a7d5a-6c95-4f89-a02b-48797a25d9f1",
   "metadata": {},
   "source": [
    "Fittiing of the linear and multiple regression"
   ]
  },
  {
   "cell_type": "code",
   "execution_count": 194,
   "id": "d7a1ef5f-1245-4cb3-ac2c-864eb0b607ee",
   "metadata": {
    "tags": []
   },
   "outputs": [],
   "source": [
    "#importing  libraries for regression analysis\n",
    "import numpy as np\n",
    "import matplotlib.pyplot as plt\n",
    "import pandas as pd\n",
    "import numpy as np\n",
    "from sklearn.model_selection import train_test_split\n",
    "from sklearn.linear_model import LinearRegression\n",
    "from sklearn.metrics import mean_squared_error, r2_score"
   ]
  },
  {
   "cell_type": "markdown",
   "id": "15e2e888-4303-403f-9d2e-9e56c27cf6b0",
   "metadata": {},
   "source": [
    " # HYPOTHESIS ONE\n",
    " \n",
    " Analyzing the data would aid Investigating the influence of several demographic factors (age, sex,\n",
    "region, and smoking status) on insurance charges."
   ]
  },
  {
   "cell_type": "markdown",
   "id": "85e9f545-91e8-43ef-806e-6c1c86938827",
   "metadata": {},
   "source": [
    "Visualization of charges and factors(age,sex,smoker and region)"
   ]
  },
  {
   "cell_type": "code",
   "execution_count": 195,
   "id": "031745eb-904f-424e-b5ea-9d5f49025811",
   "metadata": {
    "tags": []
   },
   "outputs": [
    {
     "data": {
      "image/png": "[encoded data removed]",
      "text/plain": [
       "<Figure size 1500x400 with 4 Axes>"
      ]
     },
     "metadata": {},
     "output_type": "display_data"
    }
   ],
   "source": [
    "import pandas as pd\n",
    "from sklearn.linear_model import LinearRegression\n",
    "\n",
    "\n",
    "# Extracting independent variables (features) and dependent variable\n",
    "X = data[['age', 'sex', 'smoker', 'region']] # INDEPENDENT VARIABLES\n",
    "y = data['charges']  #  dependent variable\n",
    "\n",
    "# Create subplots for individual scatter plots\n",
    "num_cols = len(X.columns)\n",
    "fig, axs = plt.subplots(nrows=1, ncols=num_cols, figsize=(15, 4))  # Adjust figsize as needed\n",
    "\n",
    "# Loop through each independent variable and plot against the dependent variable\n",
    "for i, col in enumerate(X.columns):\n",
    "    axs[i].scatter(X[col], y, color='blue', alpha=0.5)\n",
    "    axs[i].set_xlabel(col)\n",
    "    axs[i].set_ylabel('Insurance Charges')\n",
    "    axs[i].set_title(f'{col} vs. Insurance Charges')\n",
    "\n",
    "plt.tight_layout()\n",
    "plt.show()"
   ]
  },
  {
   "cell_type": "markdown",
   "id": "9cfe57f2-fc97-44c7-ba38-4cb0e2438c64",
   "metadata": {},
   "source": [
    "fitting multiple regression for changes and factors(age,sex,smoker and region)"
   ]
  },
  {
   "cell_type": "code",
   "execution_count": 196,
   "id": "eb11cfc5-ee9f-449f-9122-7f4ed03e3781",
   "metadata": {
    "tags": []
   },
   "outputs": [],
   "source": [
    "import statsmodels.api as sm\n",
    "\n",
    "#define response variable\n",
    "y = data['charges']\n",
    "\n",
    "#define predictor variables\n",
    "x = data[['age', 'sex', 'region', 'smoker']] # this is the multiple independent variables selection\n",
    "\n",
    "#adding constant to predictor variables\n",
    "x = sm.add_constant(x)\n",
    "\n",
    "#fitting linear regression model\n",
    "model = sm.OLS(y, x).fit()\n",
    "\n",
    "# This will analyze a statical regression and will return a p-value."
   ]
  },
  {
   "cell_type": "code",
   "execution_count": 197,
   "id": "e1a59367-1e31-4de8-bf2a-5ddb6ddf8ed4",
   "metadata": {
    "tags": []
   },
   "outputs": [
    {
     "name": "stdout",
     "output_type": "stream",
     "text": [
      "                            OLS Regression Results                            \n",
      "==============================================================================\n",
      "Dep. Variable:                charges   R-squared:                       0.721\n",
      "Model:                            OLS   Adj. R-squared:                  0.721\n",
      "Method:                 Least Squares   F-statistic:                     863.1\n",
      "Date:                Thu, 04 Jan 2024   Prob (F-statistic):               0.00\n",
      "Time:                        21:04:20   Log-Likelihood:                -13623.\n",
      "No. Observations:                1338   AIC:                         2.726e+04\n",
      "Df Residuals:                    1333   BIC:                         2.728e+04\n",
      "Df Model:                           4                                         \n",
      "Covariance Type:            nonrobust                                         \n",
      "==============================================================================\n",
      "                 coef    std err          t      P>|t|      [0.025      0.975]\n",
      "------------------------------------------------------------------------------\n",
      "const      -2348.2958    607.227     -3.867      0.000   -3539.521   -1157.071\n",
      "age          274.9361     12.466     22.055      0.000     250.481     299.391\n",
      "sex           82.4281    351.098      0.235      0.814    -606.337     771.193\n",
      "region       -56.6530    158.445     -0.358      0.721    -367.483     254.177\n",
      "smoker      2.385e+04    435.034     54.817      0.000     2.3e+04    2.47e+04\n",
      "==============================================================================\n",
      "Omnibus:                      264.882   Durbin-Watson:                   2.081\n",
      "Prob(Omnibus):                  0.000   Jarque-Bera (JB):              636.098\n",
      "Skew:                           1.072   Prob(JB):                    7.47e-139\n",
      "Kurtosis:                       5.610   Cond. No.                         149.\n",
      "==============================================================================\n",
      "\n",
      "Notes:\n",
      "[1] Standard Errors assume that the covariance matrix of the errors is correctly specified.\n"
     ]
    }
   ],
   "source": [
    "#view model summary\n",
    "print(model.summary())\n"
   ]
  },
  {
   "cell_type": "markdown",
   "id": "a40585a3-6602-48a3-a635-e84a4dfe15cd",
   "metadata": {},
   "source": [
    "# Interpretation "
   ]
  },
  {
   "cell_type": "markdown",
   "id": "32a5effc-6292-467e-969e-7af833b89eef",
   "metadata": {},
   "source": [
    "Approximately 72.1% of the variation in the insurance charges can be explained by the model.\n",
    "This suggests a relatively good fit and that around 72.1% of the variation in insurance\n",
    "charges can be explained by the factors provided.\n",
    "\n",
    "Pvalue: The model's overall significance is tested by p value. When the p-value is low, \n",
    "it indicates that at least one independent variable plays a major role in the explanation of the dependent variable.\n",
    "The model is statistically significant in this case since the p-value is extremely low.\n",
    "\n",
    "\n",
    "Coefficient interpretation\n",
    "\n",
    "Age: The average increases in insurance charges is about 274.94 for every unit increase in age.\n",
    "Sex: The coefficient indicates that the association between insurance costs and \n",
    "sex is not statistically significant. The high p-value (0.814) suggests that there is no \n",
    "statistically meaningful relationship between sex and charges.This ia also the same for region with \n",
    "high p-value (0.721).\n",
    "Smokers: Insurance costs are greatly impacted by smoking.\n",
    "Smokers typically pay considerably more than non-smokers, with an average cost of almost $23,850.\n",
    "\n",
    "Conclusion: Age and smokers have a significant impact on charges while sex and regioon are not\n",
    "Insurance firms can use these data to evaluate risk factors and set rates. \n",
    "such as when adjusting insurance prices, companies may take into account characteristics \n",
    "such as age and smoking history, while other aspects may not have as much of an impact.\n",
    "\n",
    "\n"
   ]
  },
  {
   "cell_type": "markdown",
   "id": "4d7a5393-b2dd-4bf7-87f8-179f5a1611b2",
   "metadata": {
    "tags": []
   },
   "source": [
    "# HYPOTHESIS TWO\n",
    "The analysis will help predict the relationship between the number of children and Insurance\n",
    "charges"
   ]
  },
  {
   "cell_type": "markdown",
   "id": "76ce1bbb-1211-46c2-8626-b91c769d52d1",
   "metadata": {},
   "source": [
    "Visualization of linear regression for Charges and and BMI"
   ]
  },
  {
   "cell_type": "code",
   "execution_count": 198,
   "id": "5feada13-239f-4da2-9b7c-89a3b6b772a2",
   "metadata": {
    "tags": []
   },
   "outputs": [
    {
     "data": {
      "image/png": "[encoded data removed]",
      "text/plain": [
       "<Figure size 640x480 with 1 Axes>"
      ]
     },
     "metadata": {},
     "output_type": "display_data"
    }
   ],
   "source": [
    "import matplotlib.pyplot as plt\n",
    "from sklearn.linear_model import LinearRegression\n",
    "\n",
    "# Extracting columns from your DataFrame\n",
    "X = data['bmi']  #  independent variable\n",
    "y = data['charges']  #  dependent variable\n",
    "\n",
    "# Reshape X for sklearn (if X has a single feature)\n",
    "X = X.values.reshape(-1, 1)\n",
    "\n",
    "# Instantiate and fit the linear regression model\n",
    "model = LinearRegression()\n",
    "model.fit(X, y)\n",
    "\n",
    "# Predict y values based on the model\n",
    "y_pred = model.predict(X)\n",
    "\n",
    "# Plotting the original data points\n",
    "plt.scatter(X, y, color='blue', label='Actual data')\n",
    "\n",
    "# Plotting the regression line\n",
    "plt.plot(X, y_pred, color='red', label='Linear regression')\n",
    "\n",
    "# Labels and title\n",
    "plt.xlabel('BMI')\n",
    "plt.ylabel('Insurance charges')\n",
    "plt.title('Plot for BMI and Insurance Charges')\n",
    "\n",
    "# Show legend\n",
    "plt.legend()\n",
    "\n",
    "# Display the plot\n",
    "plt.show()"
   ]
  },
  {
   "cell_type": "markdown",
   "id": "f521806b-9bcd-456b-a652-55175fc2be50",
   "metadata": {},
   "source": [
    "Fitting linear regression for charges and BMI"
   ]
  },
  {
   "cell_type": "code",
   "execution_count": 199,
   "id": "d17cabdb-cdaa-4600-9cf5-0b8f5cb0922d",
   "metadata": {
    "tags": []
   },
   "outputs": [],
   "source": [
    "import statsmodels.api as sm\n",
    "\n",
    "#define response variable\n",
    "y = data['charges']\n",
    "\n",
    "#define predictor variables\n",
    "x = data[['bmi']] # this is the  independent variables selection\n",
    "\n",
    "#adding constant to predictor variables\n",
    "x = sm.add_constant(x)\n",
    "\n",
    "#fitting linear regression model\n",
    "model = sm.OLS(y, x).fit()\n",
    "\n",
    "# This will compute a statical regression and will return a p-value.\n"
   ]
  },
  {
   "cell_type": "code",
   "execution_count": 200,
   "id": "3b2360da-98fe-4915-8197-c18b15e95ca0",
   "metadata": {
    "tags": []
   },
   "outputs": [
    {
     "name": "stdout",
     "output_type": "stream",
     "text": [
      "                            OLS Regression Results                            \n",
      "==============================================================================\n",
      "Dep. Variable:                charges   R-squared:                       0.039\n",
      "Model:                            OLS   Adj. R-squared:                  0.039\n",
      "Method:                 Least Squares   F-statistic:                     54.71\n",
      "Date:                Thu, 04 Jan 2024   Prob (F-statistic):           2.46e-13\n",
      "Time:                        21:04:21   Log-Likelihood:                -14451.\n",
      "No. Observations:                1338   AIC:                         2.891e+04\n",
      "Df Residuals:                    1336   BIC:                         2.892e+04\n",
      "Df Model:                           1                                         \n",
      "Covariance Type:            nonrobust                                         \n",
      "==============================================================================\n",
      "                 coef    std err          t      P>|t|      [0.025      0.975]\n",
      "------------------------------------------------------------------------------\n",
      "const       1192.9372   1664.802      0.717      0.474   -2072.974    4458.849\n",
      "bmi          393.8730     53.251      7.397      0.000     289.409     498.337\n",
      "==============================================================================\n",
      "Omnibus:                      261.030   Durbin-Watson:                   1.983\n",
      "Prob(Omnibus):                  0.000   Jarque-Bera (JB):              431.091\n",
      "Skew:                           1.297   Prob(JB):                     2.45e-94\n",
      "Kurtosis:                       4.004   Cond. No.                         160.\n",
      "==============================================================================\n",
      "\n",
      "Notes:\n",
      "[1] Standard Errors assume that the covariance matrix of the errors is correctly specified.\n"
     ]
    }
   ],
   "source": [
    "#view model summary\n",
    "print(model.summary())\n"
   ]
  },
  {
   "cell_type": "markdown",
   "id": "cfe721e2-89e7-4ad2-8d84-3c442b5f3cd8",
   "metadata": {
    "tags": []
   },
   "source": [
    "# Interpretation"
   ]
  },
  {
   "cell_type": "markdown",
   "id": "0d3707de-6b73-4d5e-a3ae-acf15ef0f007",
   "metadata": {},
   "source": [
    "R Squared: Approximately 3.9% of the variation in insurance charges may be explained by the model. \n",
    "This suggests that BMI alone accounts for just around 3.9% of the variation in insurance costs.\n",
    "\n",
    "Coefficient: The insurance costs  rise by about $393.87 for every unit increase in BMI.Although BMI is not the only factor influencing insurance cost.\n"
   ]
  },
  {
   "cell_type": "markdown",
   "id": "5e719b20-1eea-4a0a-8a58-be61df2a3056",
   "metadata": {},
   "source": [
    "# HYPOTHESIS 3\n",
    "The analysis will help determine if BMI influences insurance charges."
   ]
  },
  {
   "cell_type": "markdown",
   "id": "3040d333-91bc-4482-8a5a-667851f2ea1d",
   "metadata": {
    "tags": []
   },
   "source": [
    "Visualization of linear regression for charges and children"
   ]
  },
  {
   "cell_type": "code",
   "execution_count": 201,
   "id": "da7c9d0e-8937-4b8f-8fa7-c0e8251664fa",
   "metadata": {
    "tags": []
   },
   "outputs": [
    {
     "data": {
      "image/png": "[encoded data removed]",
      "text/plain": [
       "<Figure size 640x480 with 1 Axes>"
      ]
     },
     "metadata": {},
     "output_type": "display_data"
    }
   ],
   "source": [
    "import matplotlib.pyplot as plt\n",
    "from sklearn.linear_model import LinearRegression\n",
    "\n",
    "# Extracting columns from your DataFrame\n",
    "X = data['children']  #  independent variable\n",
    "y = data['charges']  #  dependent variable\n",
    "\n",
    "# Reshape X for sklearn (if X has a single feature)\n",
    "X = X.values.reshape(-1, 1)\n",
    "\n",
    "# Instantiate and fit the linear regression model\n",
    "model = LinearRegression()\n",
    "model.fit(X, y)\n",
    "\n",
    "# Predict y values based on the model\n",
    "y_pred = model.predict(X)\n",
    "\n",
    "# Plotting the original data points\n",
    "plt.scatter(X, y, color='blue', label='Actual data')\n",
    "\n",
    "# Plotting the regression line\n",
    "plt.plot(X, y_pred, color='red', label='Linear regression')\n",
    "\n",
    "# Labels and title\n",
    "plt.xlabel('children')\n",
    "plt.ylabel('Insurance charges')\n",
    "plt.title('Plot for children and Insurance Charges')\n",
    "\n",
    "# Show legend\n",
    "plt.legend()\n",
    "\n",
    "# Display the plot\n",
    "plt.show()"
   ]
  },
  {
   "cell_type": "markdown",
   "id": "f6947fc9-db98-4593-aea3-3ac3a7a91afd",
   "metadata": {
    "tags": []
   },
   "source": [
    "Fitting linear regression for charges and children"
   ]
  },
  {
   "cell_type": "code",
   "execution_count": 202,
   "id": "d3d7d998-0da8-4490-89fa-af284bf3610b",
   "metadata": {
    "tags": []
   },
   "outputs": [],
   "source": [
    "import statsmodels.api as sm\n",
    "\n",
    "#define response variable\n",
    "y = data['charges']\n",
    "\n",
    "#define predictor variables\n",
    "x = data[['children']] # this is the independent variable \n",
    "\n",
    "#add constant to predictor variables\n",
    "x = sm.add_constant(x)\n",
    "\n",
    "#fit linear regression model\n",
    "model = sm.OLS(y, x).fit()\n",
    "\n",
    "# This will compute a statical regression and will return a p-value."
   ]
  },
  {
   "cell_type": "code",
   "execution_count": 203,
   "id": "e4b0bbf8-4fb2-4ba7-bf76-3ae8113a415c",
   "metadata": {
    "tags": []
   },
   "outputs": [
    {
     "name": "stdout",
     "output_type": "stream",
     "text": [
      "                            OLS Regression Results                            \n",
      "==============================================================================\n",
      "Dep. Variable:                charges   R-squared:                       0.005\n",
      "Model:                            OLS   Adj. R-squared:                  0.004\n",
      "Method:                 Least Squares   F-statistic:                     6.206\n",
      "Date:                Thu, 04 Jan 2024   Prob (F-statistic):             0.0129\n",
      "Time:                        21:04:21   Log-Likelihood:                -14475.\n",
      "No. Observations:                1338   AIC:                         2.895e+04\n",
      "Df Residuals:                    1336   BIC:                         2.896e+04\n",
      "Df Model:                           1                                         \n",
      "Covariance Type:            nonrobust                                         \n",
      "==============================================================================\n",
      "                 coef    std err          t      P>|t|      [0.025      0.975]\n",
      "------------------------------------------------------------------------------\n",
      "const       1.252e+04    446.450     28.049      0.000    1.16e+04    1.34e+04\n",
      "children     683.0894    274.202      2.491      0.013     145.176    1221.002\n",
      "==============================================================================\n",
      "Omnibus:                      341.103   Durbin-Watson:                   2.003\n",
      "Prob(Omnibus):                  0.000   Jarque-Bera (JB):              666.755\n",
      "Skew:                           1.528   Prob(JB):                    1.64e-145\n",
      "Kurtosis:                       4.619   Cond. No.                         2.65\n",
      "==============================================================================\n",
      "\n",
      "Notes:\n",
      "[1] Standard Errors assume that the covariance matrix of the errors is correctly specified.\n"
     ]
    }
   ],
   "source": [
    "#view model summary\n",
    "print(model.summary())"
   ]
  },
  {
   "cell_type": "markdown",
   "id": "931d9575-16c8-4527-bfd3-c47a11e76998",
   "metadata": {},
   "source": [
    "# Interpretation"
   ]
  },
  {
   "cell_type": "markdown",
   "id": "5c653325-1048-4ea0-a2ab-f2df259d4689",
   "metadata": {},
   "source": [
    "Coefficient: Insurance charges are predicted to rise by about $683.09 for every additional child, \n",
    "assuming all other factors constant.\n",
    "\n",
    "The model appears to be statistically significant based on the low p-value of 0.0129. Nevertheless, in spite of statistical significance,  the R square is low. Hence number of children influences insurance charges\n",
    "\n"
   ]
  },
  {
   "cell_type": "markdown",
   "id": "9bce5b5a-b1a6-4f51-88e7-9c1c0d57ed62",
   "metadata": {},
   "source": [
    " # Cross avalidation"
   ]
  },
  {
   "cell_type": "code",
   "execution_count": 204,
   "id": "743aa64c-465f-4641-aa8b-6096976df15e",
   "metadata": {
    "tags": []
   },
   "outputs": [
    {
     "name": "stdout",
     "output_type": "stream",
     "text": [
      "Cross-Validation Scores: [0.73783998 0.68784856 0.74179707 0.70410276 0.73043934]\n",
      "Mean R-squared: 0.7204\n"
     ]
    }
   ],
   "source": [
    "import pandas as pd\n",
    "from sklearn.model_selection import cross_val_score\n",
    "from sklearn.linear_model import LinearRegression\n",
    "\n",
    "\n",
    "#  'X' contains independent variables and 'y' is the dependent variable\n",
    "X = data[['age', 'sex', 'region', 'smoker', 'children']]\n",
    "y = data['charges']\n",
    "\n",
    "# Initialize Linear Regression model\n",
    "model = LinearRegression()\n",
    "\n",
    "# Perform cross-validation (using 5-fold cross-validation as an example)\n",
    "scores = cross_val_score(model, X, y, cv=5, scoring='r2')  # 'r2' for R-squared\n",
    "\n",
    "# Print cross-validation scores\n",
    "print(\"Cross-Validation Scores:\", scores)\n",
    "print(f\"Mean R-squared: {scores.mean():.4f}\")"
   ]
  },
  {
   "cell_type": "markdown",
   "id": "65a9a90c-4f5e-4a3b-83f9-1f341031a74d",
   "metadata": {},
   "source": [
    "This suggests that 72.04% of the variation in the target variable can be explained by the model on average.\n",
    "These evaluations indicate the model's dependability and generalizability to new data. "
   ]
  },
  {
   "cell_type": "markdown",
   "id": "57baa268-3330-4297-9b84-0dfcd169d954",
   "metadata": {},
   "source": [
    "# Conclusion"
   ]
  },
  {
   "cell_type": "markdown",
   "id": "a7560262-b1ba-43e2-950a-7be6426880d5",
   "metadata": {},
   "source": [
    "The analysis has shown the factors that are significant with the dependent variable(Insurance Charges).Age, BMI, smoking habits, and the number of children are unique,significant factors and key determinanats to predict insurance charges. This shows how crucial these factors are in determining insurance charges that is keeping a healthy BMI, quitting smoking, and the size of the family all have a significant impact on insurance charges.\n",
    "Making well-informed decisions and reducing insurance charges can both be achieved by acknowledging and taking these considerations into account.\n",
    "\n",
    "\n"
   ]
  }
 ],
 "metadata": {
  "kernelspec": {
   "display_name": "Python 3 (ipykernel)",
   "language": "python",
   "name": "python3"
  },
  "language_info": {
   "codemirror_mode": {
    "name": "ipython",
    "version": 3
   },
   "file_extension": ".py",
   "mimetype": "text/x-python",
   "name": "python",
   "nbconvert_exporter": "python",
   "pygments_lexer": "ipython3",
   "version": "3.11.5"
  }
 },
 "nbformat": 4,
 "nbformat_minor": 5
}
